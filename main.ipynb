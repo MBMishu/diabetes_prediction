{
 "cells": [
  {
   "cell_type": "code",
   "execution_count": 109,
   "metadata": {},
   "outputs": [],
   "source": [
    "#importing necessary libraries\n",
    "import pandas as pd\n",
    "import numpy as np"
   ]
  },
  {
   "cell_type": "code",
   "execution_count": 110,
   "metadata": {},
   "outputs": [
    {
     "data": {
      "text/html": [
       "<div>\n",
       "<style scoped>\n",
       "    .dataframe tbody tr th:only-of-type {\n",
       "        vertical-align: middle;\n",
       "    }\n",
       "\n",
       "    .dataframe tbody tr th {\n",
       "        vertical-align: top;\n",
       "    }\n",
       "\n",
       "    .dataframe thead th {\n",
       "        text-align: right;\n",
       "    }\n",
       "</style>\n",
       "<table border=\"1\" class=\"dataframe\">\n",
       "  <thead>\n",
       "    <tr style=\"text-align: right;\">\n",
       "      <th></th>\n",
       "      <th>gender</th>\n",
       "      <th>smoking_history</th>\n",
       "      <th>bmi</th>\n",
       "      <th>bmi.1</th>\n",
       "      <th>HbA1c_level</th>\n",
       "      <th>blood_glucose_level</th>\n",
       "      <th>diabetes</th>\n",
       "    </tr>\n",
       "  </thead>\n",
       "  <tbody>\n",
       "    <tr>\n",
       "      <th>0</th>\n",
       "      <td>Female</td>\n",
       "      <td>never</td>\n",
       "      <td>25.19</td>\n",
       "      <td>25.19</td>\n",
       "      <td>6.6</td>\n",
       "      <td>140</td>\n",
       "      <td>0</td>\n",
       "    </tr>\n",
       "    <tr>\n",
       "      <th>1</th>\n",
       "      <td>Female</td>\n",
       "      <td>No Info</td>\n",
       "      <td>27.32</td>\n",
       "      <td>27.32</td>\n",
       "      <td>6.6</td>\n",
       "      <td>80</td>\n",
       "      <td>0</td>\n",
       "    </tr>\n",
       "    <tr>\n",
       "      <th>2</th>\n",
       "      <td>Male</td>\n",
       "      <td>never</td>\n",
       "      <td>27.32</td>\n",
       "      <td>27.32</td>\n",
       "      <td>5.7</td>\n",
       "      <td>158</td>\n",
       "      <td>0</td>\n",
       "    </tr>\n",
       "  </tbody>\n",
       "</table>\n",
       "</div>"
      ],
      "text/plain": [
       "   gender smoking_history    bmi  bmi.1  HbA1c_level  blood_glucose_level  \\\n",
       "0  Female           never  25.19  25.19          6.6                  140   \n",
       "1  Female         No Info  27.32  27.32          6.6                   80   \n",
       "2    Male           never  27.32  27.32          5.7                  158   \n",
       "\n",
       "   diabetes  \n",
       "0         0  \n",
       "1         0  \n",
       "2         0  "
      ]
     },
     "execution_count": 110,
     "metadata": {},
     "output_type": "execute_result"
    }
   ],
   "source": [
    "data_ = pd.read_csv('./dummy.csv')\n",
    "data_.head(3)"
   ]
  },
  {
   "cell_type": "code",
   "execution_count": 111,
   "metadata": {},
   "outputs": [
    {
     "name": "stdout",
     "output_type": "stream",
     "text": [
      "                 bmi          bmi.1    HbA1c_level  blood_glucose_level  \\\n",
      "count  100000.000000  100000.000000  100000.000000        100000.000000   \n",
      "mean       27.320767      27.320767       5.527507           138.058060   \n",
      "std         6.636783       6.636783       1.070672            40.708136   \n",
      "min        10.010000      10.010000       3.500000            80.000000   \n",
      "25%        23.630000      23.630000       4.800000           100.000000   \n",
      "50%        27.320000      27.320000       5.800000           140.000000   \n",
      "75%        29.580000      29.580000       6.200000           159.000000   \n",
      "max        95.690000      95.690000       9.000000           300.000000   \n",
      "\n",
      "            diabetes  \n",
      "count  100000.000000  \n",
      "mean        0.085000  \n",
      "std         0.278883  \n",
      "min         0.000000  \n",
      "25%         0.000000  \n",
      "50%         0.000000  \n",
      "75%         0.000000  \n",
      "max         1.000000  \n"
     ]
    }
   ],
   "source": [
    "# Explore basic statistics\n",
    "print(data_.describe())"
   ]
  },
  {
   "cell_type": "code",
   "execution_count": 112,
   "metadata": {},
   "outputs": [
    {
     "data": {
      "text/plain": [
       "(100000, 7)"
      ]
     },
     "execution_count": 112,
     "metadata": {},
     "output_type": "execute_result"
    }
   ],
   "source": [
    "data_.shape"
   ]
  },
  {
   "cell_type": "markdown",
   "metadata": {},
   "source": [
    "Error Handling"
   ]
  },
  {
   "cell_type": "code",
   "execution_count": 113,
   "metadata": {},
   "outputs": [
    {
     "data": {
      "text/plain": [
       "gender                 0\n",
       "smoking_history        0\n",
       "bmi                    0\n",
       "bmi.1                  0\n",
       "HbA1c_level            0\n",
       "blood_glucose_level    0\n",
       "diabetes               0\n",
       "dtype: int64"
      ]
     },
     "execution_count": 113,
     "metadata": {},
     "output_type": "execute_result"
    }
   ],
   "source": [
    "data_.isnull().sum()"
   ]
  },
  {
   "cell_type": "code",
   "execution_count": 114,
   "metadata": {},
   "outputs": [],
   "source": [
    "data_.dropna(inplace=True)"
   ]
  },
  {
   "cell_type": "code",
   "execution_count": 115,
   "metadata": {},
   "outputs": [
    {
     "data": {
      "text/plain": [
       "(100000, 7)"
      ]
     },
     "execution_count": 115,
     "metadata": {},
     "output_type": "execute_result"
    }
   ],
   "source": [
    "data_.shape"
   ]
  },
  {
   "cell_type": "markdown",
   "metadata": {},
   "source": [
    "Encode"
   ]
  },
  {
   "cell_type": "code",
   "execution_count": 116,
   "metadata": {},
   "outputs": [
    {
     "name": "stdout",
     "output_type": "stream",
     "text": [
      "normal x value\n",
      " [['Female' 'never' 25.19 25.19 6.6 140]\n",
      " ['Female' 'No Info' 27.32 27.32 6.6 80]\n",
      " ['Male' 'never' 27.32 27.32 5.7 158]\n",
      " ...\n",
      " ['Male' 'former' 27.83 27.83 5.7 155]\n",
      " ['Female' 'never' 35.42 35.42 4.0 100]\n",
      " ['Female' 'current' 22.43 22.43 6.6 90]]\n",
      "label encode gender value\n",
      " [[0 'never' 25.19 25.19 6.6 140]\n",
      " [0 'No Info' 27.32 27.32 6.6 80]\n",
      " [1 'never' 27.32 27.32 5.7 158]\n",
      " ...\n",
      " [1 'former' 27.83 27.83 5.7 155]\n",
      " [0 'never' 35.42 35.42 4.0 100]\n",
      " [0 'current' 22.43 22.43 6.6 90]]\n",
      "OneHot Encoding\n",
      " [[0.0 0.0 0.0 ... 25.19 6.6 140]\n",
      " [1.0 0.0 0.0 ... 27.32 6.6 80]\n",
      " [0.0 0.0 0.0 ... 27.32 5.7 158]\n",
      " ...\n",
      " [0.0 0.0 0.0 ... 27.83 5.7 155]\n",
      " [0.0 0.0 0.0 ... 35.42 4.0 100]\n",
      " [0.0 1.0 0.0 ... 22.43 6.6 90]]\n",
      "y values\n",
      " [0 0 0 ... 0 0 0]\n"
     ]
    }
   ],
   "source": [
    "\n",
    "from sklearn.compose import ColumnTransformer\n",
    "from sklearn.preprocessing import OneHotEncoder, LabelEncoder\n",
    "\n",
    "\n",
    "# Assuming data_ is your DataFrame\n",
    "x = data_.iloc[:, :-1].values\n",
    "y = data_.iloc[:, -1].values\n",
    "\n",
    "print(\"normal x value\\n\",x)\n",
    "# label encoder \n",
    "#female = 0 \n",
    "#male = 1\n",
    "label_encoder = LabelEncoder()\n",
    "x[:, 0] = label_encoder.fit_transform(x[:, 0])\n",
    "\n",
    "print(\"label encode gender value\\n\",x)\n",
    "\n",
    "\n",
    "# Use ColumnTransformer for OneHotEncoding\n",
    "ct = ColumnTransformer(transformers=[('encoder', OneHotEncoder(), [1])], remainder=\"passthrough\")\n",
    "x = np.array(ct.fit_transform(x))\n",
    "print(\"OneHot Encoding\\n\",x)\n",
    "print(\"y values\\n\",y)"
   ]
  },
  {
   "cell_type": "markdown",
   "metadata": {},
   "source": [
    "Split dataset"
   ]
  },
  {
   "cell_type": "code",
   "execution_count": 117,
   "metadata": {},
   "outputs": [],
   "source": [
    "from sklearn.model_selection import train_test_split\n",
    "\n",
    "x_train,x_test,y_train,y_test = train_test_split(x,y,test_size=0.30,random_state=1)"
   ]
  },
  {
   "cell_type": "code",
   "execution_count": 118,
   "metadata": {},
   "outputs": [
    {
     "name": "stdout",
     "output_type": "stream",
     "text": [
      "[[0.0 0.0 0.0 ... 29.45 6.0 90]\n",
      " [1.0 0.0 0.0 ... 25.88 3.5 90]\n",
      " [0.0 0.0 1.0 ... 34.19 6.5 130]\n",
      " ...\n",
      " [0.0 0.0 0.0 ... 28.36 5.8 90]\n",
      " [0.0 0.0 0.0 ... 57.51 6.2 126]\n",
      " [0.0 0.0 0.0 ... 27.32 6.0 90]]\n",
      "[[1.0 0.0 0.0 ... 26.62 5.0 155]\n",
      " [0.0 0.0 0.0 ... 27.32 4.5 130]\n",
      " [1.0 0.0 0.0 ... 27.32 6.2 130]\n",
      " ...\n",
      " [0.0 0.0 0.0 ... 25.55 5.8 100]\n",
      " [1.0 0.0 0.0 ... 41.04 6.1 158]\n",
      " [0.0 0.0 0.0 ... 45.03 4.5 158]]\n",
      "[0 0 0 ... 0 0 0]\n",
      "[0 0 0 ... 0 0 0]\n"
     ]
    }
   ],
   "source": [
    "print(x_train)\n",
    "print(x_test)\n",
    "print(y_train)\n",
    "print(y_test)"
   ]
  },
  {
   "cell_type": "markdown",
   "metadata": {},
   "source": [
    "feature scaling"
   ]
  },
  {
   "cell_type": "code",
   "execution_count": 119,
   "metadata": {},
   "outputs": [
    {
     "name": "stdout",
     "output_type": "stream",
     "text": [
      "[[1.0 0.0 0.0 ... -0.10317360764541834 -0.4940076505670938\n",
      "  0.40407221124724485]\n",
      " [0.0 0.0 0.0 ... 0.0025901545363380607 -0.9617765825111954\n",
      "  -0.20830068030419413]\n",
      " [1.0 0.0 0.0 ... 0.0025901545363380607 0.6286377860987503\n",
      "  -0.20830068030419413]\n",
      " ...\n",
      " [0.0 0.0 0.0 ... -0.2648410726946748 0.25442264054346864\n",
      "  -0.9431481501659209]\n",
      " [1.0 0.0 0.0 ... 2.0755598932987653 0.5350839997099295\n",
      "  0.47755695823341754]\n",
      " [0.0 0.0 0.0 ... 2.678413337734778 -0.9617765825111954\n",
      "  0.47755695823341754]]\n",
      "[[0.0 0.0 0.0 ... 0.3192937198691135 0.44121232678317046\n",
      "  -1.177359364274938]\n",
      " [1.0 0.0 0.0 ... -0.21799021979413086 -1.8921368373906409\n",
      "  -1.177359364274938]\n",
      " [0.0 0.0 1.0 ... 1.0326623120270342 0.9078821596179327\n",
      "  -0.1935007452707305]\n",
      " ...\n",
      " [0.0 0.0 0.0 ... 0.15524904361338904 0.2545443936492654\n",
      "  -1.177359364274938]\n",
      " [0.0 0.0 0.0 ... 4.542315385681616 0.6278802599170755\n",
      "  -0.2918866071711513]\n",
      " [0.0 0.0 0.0 ... -0.0012706474929901161 0.44121232678317046\n",
      "  -1.177359364274938]]\n"
     ]
    }
   ],
   "source": [
    "from sklearn.preprocessing import StandardScaler\n",
    "\n",
    "scaler = StandardScaler()\n",
    "x_train[:,4:]= scaler.fit_transform(x_train[:,4:])\n",
    "x_test[:,4:]= scaler.fit_transform(x_test[:,4:])\n",
    "\n",
    "\n",
    "print(x_test)\n",
    "print(x_train)"
   ]
  },
  {
   "cell_type": "code",
   "execution_count": null,
   "metadata": {},
   "outputs": [],
   "source": []
  }
 ],
 "metadata": {
  "kernelspec": {
   "display_name": "cse422",
   "language": "python",
   "name": "python3"
  },
  "language_info": {
   "codemirror_mode": {
    "name": "ipython",
    "version": 3
   },
   "file_extension": ".py",
   "mimetype": "text/x-python",
   "name": "python",
   "nbconvert_exporter": "python",
   "pygments_lexer": "ipython3",
   "version": "3.6.13"
  }
 },
 "nbformat": 4,
 "nbformat_minor": 2
}
