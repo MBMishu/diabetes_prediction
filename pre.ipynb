{
 "cells": [
  {
   "cell_type": "code",
   "execution_count": 2,
   "metadata": {},
   "outputs": [],
   "source": [
    "\n",
    "#importing necessary libraries\n",
    "import pandas as pd\n",
    "import numpy as np"
   ]
  },
  {
   "cell_type": "code",
   "execution_count": 3,
   "metadata": {},
   "outputs": [
    {
     "data": {
      "text/html": [
       "<div>\n",
       "<style scoped>\n",
       "    .dataframe tbody tr th:only-of-type {\n",
       "        vertical-align: middle;\n",
       "    }\n",
       "\n",
       "    .dataframe tbody tr th {\n",
       "        vertical-align: top;\n",
       "    }\n",
       "\n",
       "    .dataframe thead th {\n",
       "        text-align: right;\n",
       "    }\n",
       "</style>\n",
       "<table border=\"1\" class=\"dataframe\">\n",
       "  <thead>\n",
       "    <tr style=\"text-align: right;\">\n",
       "      <th></th>\n",
       "      <th>gender</th>\n",
       "      <th>age</th>\n",
       "      <th>hypertension</th>\n",
       "      <th>heart_disease</th>\n",
       "      <th>smoking_history</th>\n",
       "      <th>bmi</th>\n",
       "      <th>HbA1c_level</th>\n",
       "      <th>blood_glucose_level</th>\n",
       "      <th>diabetes</th>\n",
       "    </tr>\n",
       "  </thead>\n",
       "  <tbody>\n",
       "    <tr>\n",
       "      <th>0</th>\n",
       "      <td>Female</td>\n",
       "      <td>80.0</td>\n",
       "      <td>0</td>\n",
       "      <td>1</td>\n",
       "      <td>never</td>\n",
       "      <td>25.19</td>\n",
       "      <td>6.6</td>\n",
       "      <td>140</td>\n",
       "      <td>0</td>\n",
       "    </tr>\n",
       "    <tr>\n",
       "      <th>1</th>\n",
       "      <td>Female</td>\n",
       "      <td>54.0</td>\n",
       "      <td>0</td>\n",
       "      <td>0</td>\n",
       "      <td>No Info</td>\n",
       "      <td>27.32</td>\n",
       "      <td>6.6</td>\n",
       "      <td>80</td>\n",
       "      <td>0</td>\n",
       "    </tr>\n",
       "    <tr>\n",
       "      <th>2</th>\n",
       "      <td>Male</td>\n",
       "      <td>28.0</td>\n",
       "      <td>0</td>\n",
       "      <td>0</td>\n",
       "      <td>never</td>\n",
       "      <td>27.32</td>\n",
       "      <td>5.7</td>\n",
       "      <td>158</td>\n",
       "      <td>0</td>\n",
       "    </tr>\n",
       "  </tbody>\n",
       "</table>\n",
       "</div>"
      ],
      "text/plain": [
       "   gender   age  hypertension  heart_disease smoking_history    bmi  \\\n",
       "0  Female  80.0             0              1           never  25.19   \n",
       "1  Female  54.0             0              0         No Info  27.32   \n",
       "2    Male  28.0             0              0           never  27.32   \n",
       "\n",
       "   HbA1c_level  blood_glucose_level  diabetes  \n",
       "0          6.6                  140         0  \n",
       "1          6.6                   80         0  \n",
       "2          5.7                  158         0  "
      ]
     },
     "execution_count": 3,
     "metadata": {},
     "output_type": "execute_result"
    }
   ],
   "source": [
    "data_ = pd.read_csv('./diabetes_prediction_dataset.csv')\n",
    "data_.head(3)"
   ]
  },
  {
   "cell_type": "code",
   "execution_count": 4,
   "metadata": {},
   "outputs": [
    {
     "data": {
      "text/plain": [
       "(100000, 9)"
      ]
     },
     "execution_count": 4,
     "metadata": {},
     "output_type": "execute_result"
    }
   ],
   "source": [
    "data_.shape"
   ]
  },
  {
   "cell_type": "markdown",
   "metadata": {},
   "source": [
    "Error handling"
   ]
  },
  {
   "cell_type": "code",
   "execution_count": 5,
   "metadata": {},
   "outputs": [
    {
     "data": {
      "text/plain": [
       "gender                 0\n",
       "age                    0\n",
       "hypertension           0\n",
       "heart_disease          0\n",
       "smoking_history        0\n",
       "bmi                    0\n",
       "HbA1c_level            0\n",
       "blood_glucose_level    0\n",
       "diabetes               0\n",
       "dtype: int64"
      ]
     },
     "execution_count": 5,
     "metadata": {},
     "output_type": "execute_result"
    }
   ],
   "source": [
    "data_.isnull().sum()"
   ]
  },
  {
   "cell_type": "code",
   "execution_count": 6,
   "metadata": {},
   "outputs": [],
   "source": [
    "data_.dropna(inplace=True)"
   ]
  },
  {
   "cell_type": "code",
   "execution_count": 7,
   "metadata": {},
   "outputs": [
    {
     "data": {
      "text/plain": [
       "(100000, 9)"
      ]
     },
     "execution_count": 7,
     "metadata": {},
     "output_type": "execute_result"
    }
   ],
   "source": [
    "data_.shape"
   ]
  },
  {
   "cell_type": "markdown",
   "metadata": {},
   "source": [
    "feature scaling"
   ]
  },
  {
   "cell_type": "code",
   "execution_count": 8,
   "metadata": {},
   "outputs": [],
   "source": [
    "from sklearn.preprocessing import StandardScaler\n",
    "\n",
    "# Scale numerical features\n",
    "scaler = StandardScaler()\n",
    "data_[['age', 'bmi','HbA1c_level','blood_glucose_level']] = scaler.fit_transform(data_[['age', 'bmi','HbA1c_level','blood_glucose_level']])\n"
   ]
  },
  {
   "cell_type": "code",
   "execution_count": 9,
   "metadata": {},
   "outputs": [
    {
     "data": {
      "text/html": [
       "<div>\n",
       "<style scoped>\n",
       "    .dataframe tbody tr th:only-of-type {\n",
       "        vertical-align: middle;\n",
       "    }\n",
       "\n",
       "    .dataframe tbody tr th {\n",
       "        vertical-align: top;\n",
       "    }\n",
       "\n",
       "    .dataframe thead th {\n",
       "        text-align: right;\n",
       "    }\n",
       "</style>\n",
       "<table border=\"1\" class=\"dataframe\">\n",
       "  <thead>\n",
       "    <tr style=\"text-align: right;\">\n",
       "      <th></th>\n",
       "      <th>gender</th>\n",
       "      <th>age</th>\n",
       "      <th>hypertension</th>\n",
       "      <th>heart_disease</th>\n",
       "      <th>smoking_history</th>\n",
       "      <th>bmi</th>\n",
       "      <th>HbA1c_level</th>\n",
       "      <th>blood_glucose_level</th>\n",
       "      <th>diabetes</th>\n",
       "    </tr>\n",
       "  </thead>\n",
       "  <tbody>\n",
       "    <tr>\n",
       "      <th>0</th>\n",
       "      <td>Female</td>\n",
       "      <td>1.692704</td>\n",
       "      <td>0</td>\n",
       "      <td>1</td>\n",
       "      <td>never</td>\n",
       "      <td>-0.321056</td>\n",
       "      <td>1.001706</td>\n",
       "      <td>0.047704</td>\n",
       "      <td>0</td>\n",
       "    </tr>\n",
       "    <tr>\n",
       "      <th>1</th>\n",
       "      <td>Female</td>\n",
       "      <td>0.538006</td>\n",
       "      <td>0</td>\n",
       "      <td>0</td>\n",
       "      <td>No Info</td>\n",
       "      <td>-0.000116</td>\n",
       "      <td>1.001706</td>\n",
       "      <td>-1.426210</td>\n",
       "      <td>0</td>\n",
       "    </tr>\n",
       "    <tr>\n",
       "      <th>2</th>\n",
       "      <td>Male</td>\n",
       "      <td>-0.616691</td>\n",
       "      <td>0</td>\n",
       "      <td>0</td>\n",
       "      <td>never</td>\n",
       "      <td>-0.000116</td>\n",
       "      <td>0.161108</td>\n",
       "      <td>0.489878</td>\n",
       "      <td>0</td>\n",
       "    </tr>\n",
       "  </tbody>\n",
       "</table>\n",
       "</div>"
      ],
      "text/plain": [
       "   gender       age  hypertension  heart_disease smoking_history       bmi  \\\n",
       "0  Female  1.692704             0              1           never -0.321056   \n",
       "1  Female  0.538006             0              0         No Info -0.000116   \n",
       "2    Male -0.616691             0              0           never -0.000116   \n",
       "\n",
       "   HbA1c_level  blood_glucose_level  diabetes  \n",
       "0     1.001706             0.047704         0  \n",
       "1     1.001706            -1.426210         0  \n",
       "2     0.161108             0.489878         0  "
      ]
     },
     "execution_count": 9,
     "metadata": {},
     "output_type": "execute_result"
    }
   ],
   "source": [
    "data_.head(3)"
   ]
  },
  {
   "cell_type": "markdown",
   "metadata": {},
   "source": [
    "Encode"
   ]
  },
  {
   "cell_type": "code",
   "execution_count": 10,
   "metadata": {},
   "outputs": [
    {
     "name": "stdout",
     "output_type": "stream",
     "text": [
      "normal x value\n",
      " [['Female' 1.6927035405262736 0 ... -0.3210557916611154\n",
      "  1.0017057235688864 0.04770421587098508]\n",
      " ['Female' 0.5380064272004933 0 ... -0.00011558367772035405\n",
      "  1.0017057235688864 -1.426209989644696]\n",
      " ['Male' -0.616690686125287 0 ... -0.00011558367772035405\n",
      "  0.16110802156803655 0.4898784775256894]\n",
      " ...\n",
      " ['Male' 1.0709435564277765 0 ... 0.07672925485351482 0.16110802156803655\n",
      "  0.4161827672499054]\n",
      " ['Female' -0.7943363958677148 0 ... 1.2203612635830785\n",
      "  -1.4266876377669033 -0.9349052544728024]\n",
      " ['Female' 0.6712407095073141 0 ... -0.7369219766536841\n",
      "  1.0017057235688864 -1.1805576220587493]]\n",
      "label encode gender value\n",
      " [[0 1.6927035405262736 0 ... -0.3210557916611154 1.0017057235688864\n",
      "  0.04770421587098508]\n",
      " [0 0.5380064272004933 0 ... -0.00011558367772035405 1.0017057235688864\n",
      "  -1.426209989644696]\n",
      " [1 -0.616690686125287 0 ... -0.00011558367772035405 0.16110802156803655\n",
      "  0.4898784775256894]\n",
      " ...\n",
      " [1 1.0709435564277765 0 ... 0.07672925485351482 0.16110802156803655\n",
      "  0.4161827672499054]\n",
      " [0 -0.7943363958677148 0 ... 1.2203612635830785 -1.4266876377669033\n",
      "  -0.9349052544728024]\n",
      " [0 0.6712407095073141 0 ... -0.7369219766536841 1.0017057235688864\n",
      "  -1.1805576220587493]]\n",
      "OneHot Encoding\n",
      " [[0.0 0.0 0.0 ... -0.3210557916611154 1.0017057235688864\n",
      "  0.04770421587098508]\n",
      " [1.0 0.0 0.0 ... -0.00011558367772035405 1.0017057235688864\n",
      "  -1.426209989644696]\n",
      " [0.0 0.0 0.0 ... -0.00011558367772035405 0.16110802156803655\n",
      "  0.4898784775256894]\n",
      " ...\n",
      " [0.0 0.0 0.0 ... 0.07672925485351482 0.16110802156803655\n",
      "  0.4161827672499054]\n",
      " [0.0 0.0 0.0 ... 1.2203612635830785 -1.4266876377669033\n",
      "  -0.9349052544728024]\n",
      " [0.0 1.0 0.0 ... -0.7369219766536841 1.0017057235688864\n",
      "  -1.1805576220587493]]\n",
      "y values\n",
      " [0 0 0 ... 0 0 0]\n"
     ]
    }
   ],
   "source": [
    "from sklearn.compose import ColumnTransformer\n",
    "from sklearn.preprocessing import OneHotEncoder, LabelEncoder\n",
    "\n",
    "\n",
    "# Assuming data_ is your DataFrame\n",
    "x = data_.iloc[:, :-1].values\n",
    "y = data_.iloc[:, -1].values\n",
    "\n",
    "print(\"normal x value\\n\",x)\n",
    "# label encoder \n",
    "#female = 0 \n",
    "#male = 1\n",
    "label_encoder = LabelEncoder()\n",
    "x[:, 0] = label_encoder.fit_transform(x[:, 0])\n",
    "\n",
    "print(\"label encode gender value\\n\",x)\n",
    "\n",
    "\n",
    "# Use ColumnTransformer for OneHotEncoding\n",
    "ct = ColumnTransformer(transformers=[('encoder', OneHotEncoder(), [4])], remainder=\"passthrough\")\n",
    "x = np.array(ct.fit_transform(x))\n",
    "print(\"OneHot Encoding\\n\",x)\n",
    "print(\"y values\\n\",y)"
   ]
  },
  {
   "cell_type": "markdown",
   "metadata": {},
   "source": [
    "Split dataset"
   ]
  },
  {
   "cell_type": "code",
   "execution_count": 11,
   "metadata": {},
   "outputs": [
    {
     "name": "stdout",
     "output_type": "stream",
     "text": [
      "[[0.0 0.0 0.0 ... 0.3208246243056747 0.44130725556831985\n",
      "  -1.1805576220587493]\n",
      " [1.0 0.0 0.0 ... -0.21708924541297367 -1.893686361100709\n",
      "  -1.1805576220587493]\n",
      " [0.0 0.0 1.0 ... 1.035029594184216 0.9083059789021257\n",
      "  -0.19794815171496177]\n",
      " ...\n",
      " [0.0 0.0 0.0 ... 0.15658761646440678 0.2545077662347974\n",
      "  -1.1805576220587493]\n",
      " [0.0 0.0 0.0 ... 4.548797505063454 0.6281067449018424\n",
      "  -0.29620909874934054]\n",
      " [0.0 0.0 0.0 ... -0.00011558367772035405 0.44130725556831985\n",
      "  -1.1805576220587493]]\n",
      "[[1.0 0.0 0.0 ... -0.1055888914656905 -0.49269019109929174\n",
      "  0.4161827672499054]\n",
      " [0.0 0.0 0.0 ... -0.00011558367772035405 -0.9596889144330976\n",
      "  -0.19794815171496177]\n",
      " [1.0 0.0 0.0 ... -0.00011558367772035405 0.6281067449018424\n",
      "  -0.19794815171496177]\n",
      " ...\n",
      " [0.0 0.0 0.0 ... -0.26681237622730225 0.2545077662347974\n",
      "  -0.9349052544728024]\n",
      " [1.0 0.0 0.0 ... 2.067161248966497 0.5347070002350807 0.4898784775256894]\n",
      " [0.0 0.0 0.0 ... 2.6683591033579273 -0.9596889144330976\n",
      "  0.4898784775256894]]\n",
      "[0 0 0 ... 0 0 0]\n",
      "[0 0 0 ... 0 0 0]\n"
     ]
    }
   ],
   "source": [
    "from sklearn.model_selection import train_test_split\n",
    "\n",
    "x_train,x_test,y_train,y_test = train_test_split(x,y,test_size=0.30,random_state=1)\n",
    "\n",
    "\n",
    "print(x_train)\n",
    "print(x_test)\n",
    "print(y_train)\n",
    "print(y_test)"
   ]
  },
  {
   "cell_type": "code",
   "execution_count": 12,
   "metadata": {},
   "outputs": [
    {
     "data": {
      "image/png": "[encoded data removed]",
      "text/plain": [
       "<Figure size 720x576 with 2 Axes>"
      ]
     },
     "metadata": {
      "needs_background": "light"
     },
     "output_type": "display_data"
    }
   ],
   "source": [
    "import pandas as pd\n",
    "import seaborn as sns\n",
    "import matplotlib.pyplot as plt\n",
    "\n",
    "# Assuming 'data' is your dataset with features and target variable\n",
    "# Replace this with the actual path or data loading code\n",
    "\n",
    "# Calculate the correlation matrix\n",
    "correlation_matrix = data_.corr()\n",
    "\n",
    "# Create a heatmap using seaborn\n",
    "plt.figure(figsize=(10, 8))\n",
    "sns.heatmap(correlation_matrix, annot=True, cmap='coolwarm', fmt=\".2f\", linewidths=0.5)\n",
    "plt.title('Correlation Heatmap')\n",
    "plt.show()\n"
   ]
  },
  {
   "cell_type": "code",
   "execution_count": 19,
   "metadata": {},
   "outputs": [
    {
     "data": {
      "image/png": "[encoded data removed]",
      "text/plain": [
       "<Figure size 576x432 with 1 Axes>"
      ]
     },
     "metadata": {
      "needs_background": "light"
     },
     "output_type": "display_data"
    }
   ],
   "source": [
    "import matplotlib.pyplot as plt\n",
    "\n",
    "# Class distribution bar chart for the target variable 'y'\n",
    "class_counts = pd.Series(y).value_counts()\n",
    "\n",
    "plt.figure(figsize=(8, 6))\n",
    "class_counts.plot(kind='bar', color='skyblue')\n",
    "plt.title('Class Distribution in the Imbalanced Dataset')\n",
    "plt.xlabel('Class')\n",
    "plt.ylabel('Number of Samples')\n",
    "plt.xticks(rotation=0)\n",
    "plt.show()\n"
   ]
  },
  {
   "cell_type": "markdown",
   "metadata": {},
   "source": [
    "Train"
   ]
  },
  {
   "cell_type": "code",
   "execution_count": null,
   "metadata": {},
   "outputs": [],
   "source": [
    "from sklearn.neighbors import KNeighborsClassifier\n",
    "from sklearn.linear_model import LogisticRegression, LinearRegression\n",
    "from sklearn.svm import SVC\n",
    "from sklearn.naive_bayes import GaussianNB\n",
    "\n",
    "# K-Nearest Neighbors (KNN)\n",
    "knn_model = KNeighborsClassifier(n_neighbors=8) #as there are 8 parameter for predict diabetes\n",
    "knn_model.fit(x_train, y_train)\n",
    "\n",
    "# Logistic Regression\n",
    "logistic_model = LogisticRegression()\n",
    "logistic_model.fit(x_train, y_train)\n",
    "\n",
    "# Support Vector Machine (SVM)\n",
    "svm_model = SVC()\n",
    "svm_model.fit(x_train, y_train)\n",
    "\n",
    "# Naive Bayes\n",
    "nb_model = GaussianNB()\n",
    "nb_model.fit(x_train, y_train)"
   ]
  },
  {
   "cell_type": "code",
   "execution_count": null,
   "metadata": {},
   "outputs": [],
   "source": [
    "from sklearn.metrics import accuracy_score, classification_report\n",
    "\n",
    "knn_predictions = knn_model.predict(x_test)\n",
    "print(\"KNN Accuracy:\", accuracy_score(y_test, knn_predictions))\n",
    "print(\"KNN Classification Report:\")\n",
    "print(classification_report(y_test, knn_predictions))\n",
    "\n",
    "\n",
    "logistic_predictions = logistic_model.predict(x_test)\n",
    "print(\"\\nLogistic Regression Accuracy:\", accuracy_score(y_test, logistic_predictions))\n",
    "print(\"Logistic Regression Classification Report:\")\n",
    "print(classification_report(y_test, logistic_predictions))\n",
    "\n",
    "\n",
    "svm_predictions = svm_model.predict(x_test)\n",
    "print(\"\\nSVM Accuracy:\", accuracy_score(y_test, svm_predictions))\n",
    "print(\"SVM Classification Report:\")\n",
    "print(classification_report(y_test, svm_predictions))\n",
    "\n",
    "nb_predictions = nb_model.predict(x_test)\n",
    "print(\"\\nNaive Bayes Accuracy:\", accuracy_score(y_test, nb_predictions))\n",
    "print(\"Naive Bayes Classification Report:\")\n",
    "print(classification_report(y_test, nb_predictions))"
   ]
  },
  {
   "cell_type": "code",
   "execution_count": null,
   "metadata": {},
   "outputs": [],
   "source": []
  }
 ],
 "metadata": {
  "kernelspec": {
   "display_name": "cse422",
   "language": "python",
   "name": "python3"
  },
  "language_info": {
   "codemirror_mode": {
    "name": "ipython",
    "version": 3
   },
   "file_extension": ".py",
   "mimetype": "text/x-python",
   "name": "python",
   "nbconvert_exporter": "python",
   "pygments_lexer": "ipython3",
   "version": "3.6.13"
  }
 },
 "nbformat": 4,
 "nbformat_minor": 2
}
