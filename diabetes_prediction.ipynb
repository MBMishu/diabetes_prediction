{
  "cells": [
    {
      "cell_type": "markdown",
      "metadata": {
        "id": "CaPU2MytUnXq"
      },
      "source": [
        "# **Import Libarays:**"
      ]
    },
    {
      "cell_type": "code",
      "execution_count": 45,
      "metadata": {
        "id": "vWFK5VDaPrZh"
      },
      "outputs": [],
      "source": [
        "import pandas as pd\n",
        "import matplotlib.pyplot as plt\n",
        "import numpy as np\n",
        "import seaborn as sns\n",
        "from scipy import stats\n",
        "\n",
        "from sklearn.preprocessing import StandardScaler\n",
        "from sklearn.model_selection import train_test_split, cross_val_score, GridSearchCV, StratifiedKFold\n",
        "\n",
        "from sklearn.linear_model import LogisticRegression\n",
        "from sklearn.neighbors import KNeighborsClassifier\n",
        "from sklearn.tree import DecisionTreeClassifier\n",
        "from sklearn.ensemble import RandomForestClassifier\n",
        "from sklearn.svm import SVC\n",
        "\n",
        "from sklearn.metrics import accuracy_score, confusion_matrix, ConfusionMatrixDisplay, classification_report\n",
        "from sklearn.metrics import precision_score, recall_score, f1_score, accuracy_score\n",
        "from sklearn.model_selection import train_test_split\n",
        "from sklearn.metrics import roc_curve, roc_auc_score, precision_score, recall_score, f1_score, RocCurveDisplay\n",
        "\n",
        "from statistics import stdev\n",
        "import plotly.express as px\n",
        "import warnings\n",
        "warnings.filterwarnings(\"ignore\")"
      ]
    },
    {
      "cell_type": "markdown",
      "metadata": {
        "id": "x9BdABQAUZfy"
      },
      "source": [
        "# **Load Data & More Information about this data set**\n"
      ]
    },
    {
      "cell_type": "code",
      "execution_count": 46,
      "metadata": {
        "id": "khl1ZRM_QJNh"
      },
      "outputs": [],
      "source": [
        "data = pd.read_csv('./diabetes_prediction_dataset.csv')"
      ]
    },
    {
      "cell_type": "code",
      "execution_count": 47,
      "metadata": {
        "colab": {
          "base_uri": "https://localhost:8080/"
        },
        "id": "SxCX0VqTQMqX",
        "outputId": "8e28c6fa-df54-406f-b4fb-b3a61ca3c1b7"
      },
      "outputs": [
        {
          "name": "stdout",
          "output_type": "stream",
          "text": [
            "Number Of Samples:  100000\n",
            "Number Of Features:  9\n"
          ]
        }
      ],
      "source": [
        "samples, features = data.shape\n",
        "print('Number Of Samples: ', samples)\n",
        "print('Number Of Features: ', features)"
      ]
    },
    {
      "cell_type": "code",
      "execution_count": 49,
      "metadata": {
        "colab": {
          "base_uri": "https://localhost:8080/",
          "height": 363
        },
        "id": "6NOpZB54QTjr",
        "outputId": "28dcb031-f8b5-4526-c290-bc66e933e6e7"
      },
      "outputs": [
        {
          "data": {
            "text/html": [
              "<div>\n",
              "<style scoped>\n",
              "    .dataframe tbody tr th:only-of-type {\n",
              "        vertical-align: middle;\n",
              "    }\n",
              "\n",
              "    .dataframe tbody tr th {\n",
              "        vertical-align: top;\n",
              "    }\n",
              "\n",
              "    .dataframe thead th {\n",
              "        text-align: right;\n",
              "    }\n",
              "</style>\n",
              "<table border=\"1\" class=\"dataframe\">\n",
              "  <thead>\n",
              "    <tr style=\"text-align: right;\">\n",
              "      <th></th>\n",
              "      <th>gender</th>\n",
              "      <th>age</th>\n",
              "      <th>hypertension</th>\n",
              "      <th>heart_disease</th>\n",
              "      <th>smoking_history</th>\n",
              "      <th>bmi</th>\n",
              "      <th>HbA1c_level</th>\n",
              "      <th>blood_glucose_level</th>\n",
              "      <th>diabetes</th>\n",
              "    </tr>\n",
              "  </thead>\n",
              "  <tbody>\n",
              "    <tr>\n",
              "      <th>0</th>\n",
              "      <td>Female</td>\n",
              "      <td>80.0</td>\n",
              "      <td>0</td>\n",
              "      <td>1</td>\n",
              "      <td>never</td>\n",
              "      <td>25.19</td>\n",
              "      <td>6.6</td>\n",
              "      <td>140</td>\n",
              "      <td>0</td>\n",
              "    </tr>\n",
              "    <tr>\n",
              "      <th>1</th>\n",
              "      <td>Female</td>\n",
              "      <td>54.0</td>\n",
              "      <td>0</td>\n",
              "      <td>0</td>\n",
              "      <td>No Info</td>\n",
              "      <td>27.32</td>\n",
              "      <td>6.6</td>\n",
              "      <td>80</td>\n",
              "      <td>0</td>\n",
              "    </tr>\n",
              "    <tr>\n",
              "      <th>2</th>\n",
              "      <td>Male</td>\n",
              "      <td>28.0</td>\n",
              "      <td>0</td>\n",
              "      <td>0</td>\n",
              "      <td>never</td>\n",
              "      <td>27.32</td>\n",
              "      <td>5.7</td>\n",
              "      <td>158</td>\n",
              "      <td>0</td>\n",
              "    </tr>\n",
              "    <tr>\n",
              "      <th>3</th>\n",
              "      <td>Female</td>\n",
              "      <td>36.0</td>\n",
              "      <td>0</td>\n",
              "      <td>0</td>\n",
              "      <td>current</td>\n",
              "      <td>23.45</td>\n",
              "      <td>5.0</td>\n",
              "      <td>155</td>\n",
              "      <td>0</td>\n",
              "    </tr>\n",
              "    <tr>\n",
              "      <th>4</th>\n",
              "      <td>Male</td>\n",
              "      <td>76.0</td>\n",
              "      <td>1</td>\n",
              "      <td>1</td>\n",
              "      <td>current</td>\n",
              "      <td>20.14</td>\n",
              "      <td>4.8</td>\n",
              "      <td>155</td>\n",
              "      <td>0</td>\n",
              "    </tr>\n",
              "    <tr>\n",
              "      <th>5</th>\n",
              "      <td>Female</td>\n",
              "      <td>20.0</td>\n",
              "      <td>0</td>\n",
              "      <td>0</td>\n",
              "      <td>never</td>\n",
              "      <td>27.32</td>\n",
              "      <td>6.6</td>\n",
              "      <td>85</td>\n",
              "      <td>0</td>\n",
              "    </tr>\n",
              "    <tr>\n",
              "      <th>6</th>\n",
              "      <td>Female</td>\n",
              "      <td>44.0</td>\n",
              "      <td>0</td>\n",
              "      <td>0</td>\n",
              "      <td>never</td>\n",
              "      <td>19.31</td>\n",
              "      <td>6.5</td>\n",
              "      <td>200</td>\n",
              "      <td>1</td>\n",
              "    </tr>\n",
              "    <tr>\n",
              "      <th>7</th>\n",
              "      <td>Female</td>\n",
              "      <td>79.0</td>\n",
              "      <td>0</td>\n",
              "      <td>0</td>\n",
              "      <td>No Info</td>\n",
              "      <td>23.86</td>\n",
              "      <td>5.7</td>\n",
              "      <td>85</td>\n",
              "      <td>0</td>\n",
              "    </tr>\n",
              "    <tr>\n",
              "      <th>8</th>\n",
              "      <td>Male</td>\n",
              "      <td>42.0</td>\n",
              "      <td>0</td>\n",
              "      <td>0</td>\n",
              "      <td>never</td>\n",
              "      <td>33.64</td>\n",
              "      <td>4.8</td>\n",
              "      <td>145</td>\n",
              "      <td>0</td>\n",
              "    </tr>\n",
              "    <tr>\n",
              "      <th>9</th>\n",
              "      <td>Female</td>\n",
              "      <td>32.0</td>\n",
              "      <td>0</td>\n",
              "      <td>0</td>\n",
              "      <td>never</td>\n",
              "      <td>27.32</td>\n",
              "      <td>5.0</td>\n",
              "      <td>100</td>\n",
              "      <td>0</td>\n",
              "    </tr>\n",
              "  </tbody>\n",
              "</table>\n",
              "</div>"
            ],
            "text/plain": [
              "   gender   age  hypertension  heart_disease smoking_history    bmi  \\\n",
              "0  Female  80.0             0              1           never  25.19   \n",
              "1  Female  54.0             0              0         No Info  27.32   \n",
              "2    Male  28.0             0              0           never  27.32   \n",
              "3  Female  36.0             0              0         current  23.45   \n",
              "4    Male  76.0             1              1         current  20.14   \n",
              "5  Female  20.0             0              0           never  27.32   \n",
              "6  Female  44.0             0              0           never  19.31   \n",
              "7  Female  79.0             0              0         No Info  23.86   \n",
              "8    Male  42.0             0              0           never  33.64   \n",
              "9  Female  32.0             0              0           never  27.32   \n",
              "\n",
              "   HbA1c_level  blood_glucose_level  diabetes  \n",
              "0          6.6                  140         0  \n",
              "1          6.6                   80         0  \n",
              "2          5.7                  158         0  \n",
              "3          5.0                  155         0  \n",
              "4          4.8                  155         0  \n",
              "5          6.6                   85         0  \n",
              "6          6.5                  200         1  \n",
              "7          5.7                   85         0  \n",
              "8          4.8                  145         0  \n",
              "9          5.0                  100         0  "
            ]
          },
          "execution_count": 49,
          "metadata": {},
          "output_type": "execute_result"
        }
      ],
      "source": [
        "data.head(10)"
      ]
    },
    {
      "cell_type": "code",
      "execution_count": 50,
      "metadata": {
        "colab": {
          "base_uri": "https://localhost:8080/"
        },
        "id": "XhAmXsT6TgIL",
        "outputId": "540f688f-8157-49f3-a1c0-40f20571a66a"
      },
      "outputs": [
        {
          "name": "stdout",
          "output_type": "stream",
          "text": [
            "<class 'pandas.core.frame.DataFrame'>\n",
            "RangeIndex: 100000 entries, 0 to 99999\n",
            "Data columns (total 9 columns):\n",
            " #   Column               Non-Null Count   Dtype  \n",
            "---  ------               --------------   -----  \n",
            " 0   gender               100000 non-null  object \n",
            " 1   age                  100000 non-null  float64\n",
            " 2   hypertension         100000 non-null  int64  \n",
            " 3   heart_disease        100000 non-null  int64  \n",
            " 4   smoking_history      100000 non-null  object \n",
            " 5   bmi                  100000 non-null  float64\n",
            " 6   HbA1c_level          100000 non-null  float64\n",
            " 7   blood_glucose_level  100000 non-null  int64  \n",
            " 8   diabetes             100000 non-null  int64  \n",
            "dtypes: float64(3), int64(4), object(2)\n",
            "memory usage: 6.9+ MB\n"
          ]
        }
      ],
      "source": [
        "data.info()"
      ]
    },
    {
      "cell_type": "code",
      "execution_count": 51,
      "metadata": {
        "colab": {
          "base_uri": "https://localhost:8080/",
          "height": 394
        },
        "id": "R8fjnlHOT-lZ",
        "outputId": "4930ddeb-2650-4ae1-b565-a9c06e4f5d37"
      },
      "outputs": [
        {
          "data": {
            "text/html": [
              "<div>\n",
              "<style scoped>\n",
              "    .dataframe tbody tr th:only-of-type {\n",
              "        vertical-align: middle;\n",
              "    }\n",
              "\n",
              "    .dataframe tbody tr th {\n",
              "        vertical-align: top;\n",
              "    }\n",
              "\n",
              "    .dataframe thead th {\n",
              "        text-align: right;\n",
              "    }\n",
              "</style>\n",
              "<table border=\"1\" class=\"dataframe\">\n",
              "  <thead>\n",
              "    <tr style=\"text-align: right;\">\n",
              "      <th></th>\n",
              "      <th>gender</th>\n",
              "      <th>age</th>\n",
              "      <th>hypertension</th>\n",
              "      <th>heart_disease</th>\n",
              "      <th>smoking_history</th>\n",
              "      <th>bmi</th>\n",
              "      <th>HbA1c_level</th>\n",
              "      <th>blood_glucose_level</th>\n",
              "      <th>diabetes</th>\n",
              "    </tr>\n",
              "  </thead>\n",
              "  <tbody>\n",
              "    <tr>\n",
              "      <th>count</th>\n",
              "      <td>100000</td>\n",
              "      <td>100000.000000</td>\n",
              "      <td>100000.00000</td>\n",
              "      <td>100000.000000</td>\n",
              "      <td>100000</td>\n",
              "      <td>100000.000000</td>\n",
              "      <td>100000.000000</td>\n",
              "      <td>100000.000000</td>\n",
              "      <td>100000.000000</td>\n",
              "    </tr>\n",
              "    <tr>\n",
              "      <th>unique</th>\n",
              "      <td>3</td>\n",
              "      <td>NaN</td>\n",
              "      <td>NaN</td>\n",
              "      <td>NaN</td>\n",
              "      <td>6</td>\n",
              "      <td>NaN</td>\n",
              "      <td>NaN</td>\n",
              "      <td>NaN</td>\n",
              "      <td>NaN</td>\n",
              "    </tr>\n",
              "    <tr>\n",
              "      <th>top</th>\n",
              "      <td>Female</td>\n",
              "      <td>NaN</td>\n",
              "      <td>NaN</td>\n",
              "      <td>NaN</td>\n",
              "      <td>No Info</td>\n",
              "      <td>NaN</td>\n",
              "      <td>NaN</td>\n",
              "      <td>NaN</td>\n",
              "      <td>NaN</td>\n",
              "    </tr>\n",
              "    <tr>\n",
              "      <th>freq</th>\n",
              "      <td>58552</td>\n",
              "      <td>NaN</td>\n",
              "      <td>NaN</td>\n",
              "      <td>NaN</td>\n",
              "      <td>35816</td>\n",
              "      <td>NaN</td>\n",
              "      <td>NaN</td>\n",
              "      <td>NaN</td>\n",
              "      <td>NaN</td>\n",
              "    </tr>\n",
              "    <tr>\n",
              "      <th>mean</th>\n",
              "      <td>NaN</td>\n",
              "      <td>41.885856</td>\n",
              "      <td>0.07485</td>\n",
              "      <td>0.039420</td>\n",
              "      <td>NaN</td>\n",
              "      <td>27.320767</td>\n",
              "      <td>5.527507</td>\n",
              "      <td>138.058060</td>\n",
              "      <td>0.085000</td>\n",
              "    </tr>\n",
              "    <tr>\n",
              "      <th>std</th>\n",
              "      <td>NaN</td>\n",
              "      <td>22.516840</td>\n",
              "      <td>0.26315</td>\n",
              "      <td>0.194593</td>\n",
              "      <td>NaN</td>\n",
              "      <td>6.636783</td>\n",
              "      <td>1.070672</td>\n",
              "      <td>40.708136</td>\n",
              "      <td>0.278883</td>\n",
              "    </tr>\n",
              "    <tr>\n",
              "      <th>min</th>\n",
              "      <td>NaN</td>\n",
              "      <td>0.080000</td>\n",
              "      <td>0.00000</td>\n",
              "      <td>0.000000</td>\n",
              "      <td>NaN</td>\n",
              "      <td>10.010000</td>\n",
              "      <td>3.500000</td>\n",
              "      <td>80.000000</td>\n",
              "      <td>0.000000</td>\n",
              "    </tr>\n",
              "    <tr>\n",
              "      <th>25%</th>\n",
              "      <td>NaN</td>\n",
              "      <td>24.000000</td>\n",
              "      <td>0.00000</td>\n",
              "      <td>0.000000</td>\n",
              "      <td>NaN</td>\n",
              "      <td>23.630000</td>\n",
              "      <td>4.800000</td>\n",
              "      <td>100.000000</td>\n",
              "      <td>0.000000</td>\n",
              "    </tr>\n",
              "    <tr>\n",
              "      <th>50%</th>\n",
              "      <td>NaN</td>\n",
              "      <td>43.000000</td>\n",
              "      <td>0.00000</td>\n",
              "      <td>0.000000</td>\n",
              "      <td>NaN</td>\n",
              "      <td>27.320000</td>\n",
              "      <td>5.800000</td>\n",
              "      <td>140.000000</td>\n",
              "      <td>0.000000</td>\n",
              "    </tr>\n",
              "    <tr>\n",
              "      <th>75%</th>\n",
              "      <td>NaN</td>\n",
              "      <td>60.000000</td>\n",
              "      <td>0.00000</td>\n",
              "      <td>0.000000</td>\n",
              "      <td>NaN</td>\n",
              "      <td>29.580000</td>\n",
              "      <td>6.200000</td>\n",
              "      <td>159.000000</td>\n",
              "      <td>0.000000</td>\n",
              "    </tr>\n",
              "    <tr>\n",
              "      <th>max</th>\n",
              "      <td>NaN</td>\n",
              "      <td>80.000000</td>\n",
              "      <td>1.00000</td>\n",
              "      <td>1.000000</td>\n",
              "      <td>NaN</td>\n",
              "      <td>95.690000</td>\n",
              "      <td>9.000000</td>\n",
              "      <td>300.000000</td>\n",
              "      <td>1.000000</td>\n",
              "    </tr>\n",
              "  </tbody>\n",
              "</table>\n",
              "</div>"
            ],
            "text/plain": [
              "        gender            age  hypertension  heart_disease smoking_history  \\\n",
              "count   100000  100000.000000  100000.00000  100000.000000          100000   \n",
              "unique       3            NaN           NaN            NaN               6   \n",
              "top     Female            NaN           NaN            NaN         No Info   \n",
              "freq     58552            NaN           NaN            NaN           35816   \n",
              "mean       NaN      41.885856       0.07485       0.039420             NaN   \n",
              "std        NaN      22.516840       0.26315       0.194593             NaN   \n",
              "min        NaN       0.080000       0.00000       0.000000             NaN   \n",
              "25%        NaN      24.000000       0.00000       0.000000             NaN   \n",
              "50%        NaN      43.000000       0.00000       0.000000             NaN   \n",
              "75%        NaN      60.000000       0.00000       0.000000             NaN   \n",
              "max        NaN      80.000000       1.00000       1.000000             NaN   \n",
              "\n",
              "                  bmi    HbA1c_level  blood_glucose_level       diabetes  \n",
              "count   100000.000000  100000.000000        100000.000000  100000.000000  \n",
              "unique            NaN            NaN                  NaN            NaN  \n",
              "top               NaN            NaN                  NaN            NaN  \n",
              "freq              NaN            NaN                  NaN            NaN  \n",
              "mean        27.320767       5.527507           138.058060       0.085000  \n",
              "std          6.636783       1.070672            40.708136       0.278883  \n",
              "min         10.010000       3.500000            80.000000       0.000000  \n",
              "25%         23.630000       4.800000           100.000000       0.000000  \n",
              "50%         27.320000       5.800000           140.000000       0.000000  \n",
              "75%         29.580000       6.200000           159.000000       0.000000  \n",
              "max         95.690000       9.000000           300.000000       1.000000  "
            ]
          },
          "execution_count": 51,
          "metadata": {},
          "output_type": "execute_result"
        }
      ],
      "source": [
        "data.describe(include='all')"
      ]
    },
    {
      "cell_type": "markdown",
      "metadata": {
        "id": "dqhju8iiZlTx"
      },
      "source": [
        "# **Correlation Between The Features:**"
      ]
    },
    {
      "cell_type": "markdown",
      "metadata": {
        "id": "xpbw65xCU3Ge"
      },
      "source": [
        "# **unique valuse:**"
      ]
    },
    {
      "cell_type": "code",
      "execution_count": null,
      "metadata": {
        "colab": {
          "base_uri": "https://localhost:8080/",
          "height": 331
        },
        "id": "j13BUgujVA4i",
        "outputId": "2b45d6a5-e212-4e87-9683-c33588fd0555"
      },
      "outputs": [],
      "source": [
        "d = []\n",
        "u = []\n",
        "t = []\n",
        "for col in data:\n",
        "    d.append(col)\n",
        "    u.append(data[col].nunique())\n",
        "    t.append(data[col].dtype)\n",
        "pd.DataFrame({'column':d,'type': t ,'unique value' : u})"
      ]
    },
    {
      "cell_type": "markdown",
      "metadata": {
        "id": "rUPtqXyuWmaG"
      },
      "source": [
        "**Unique classes instance:**"
      ]
    },
    {
      "cell_type": "code",
      "execution_count": null,
      "metadata": {
        "colab": {
          "base_uri": "https://localhost:8080/",
          "height": 737
        },
        "id": "r-g5J8rRar0K",
        "outputId": "c3e14972-420a-4cb1-ee23-9a65a758d7d6"
      },
      "outputs": [],
      "source": [
        "labels = ['Female', 'Male', 'Other']\n",
        "values = data['gender'].value_counts().values\n",
        "\n",
        "plt.style.use('fivethirtyeight')\n",
        "plt.figure(figsize=(10, 8))\n",
        "plt.subplot(1, 2, 1)\n",
        "sns.countplot(x=data['gender'], data=data)\n",
        "plt.subplot(1, 2, 2)\n",
        "plt.pie(values, labels=labels, autopct='%1.1f%%')\n",
        "\n",
        "plt.savefig('FirstImage')\n",
        "plt.show()"
      ]
    },
    {
      "cell_type": "code",
      "execution_count": null,
      "metadata": {
        "colab": {
          "base_uri": "https://localhost:8080/",
          "height": 692
        },
        "id": "Yo7XRcnF8Uw4",
        "outputId": "21f2ab19-c45f-4083-cf17-a3f186cd440c"
      },
      "outputs": [],
      "source": [
        "labels = ['never', 'No Info', 'former', 'current', 'not current', 'ever']\n",
        "values = data['smoking_history'].value_counts().values\n",
        "\n",
        "plt.style.use('fivethirtyeight')\n",
        "plt.figure(figsize=(15, 10))\n",
        "plt.subplot(1, 2, 1)\n",
        "sns.countplot(x=data['smoking_history'], data=data)\n",
        "plt.subplot(1, 2, 2)\n",
        "plt.pie(values, labels=labels, autopct='%1.1f%%')\n",
        "\n",
        "plt.savefig('Image')\n",
        "plt.show()"
      ]
    },
    {
      "cell_type": "code",
      "execution_count": null,
      "metadata": {
        "colab": {
          "base_uri": "https://localhost:8080/",
          "height": 911
        },
        "id": "p1gBGOe5ejn5",
        "outputId": "219a6acc-fa2e-4d7e-f36d-70d55f7c8eba"
      },
      "outputs": [],
      "source": [
        "numerical = ['age', 'bmi', 'blood_glucose_level', 'HbA1c_level']\n",
        "i = 0\n",
        "\n",
        "while i < 4:\n",
        "  plt.figure(figsize=(20, 8))\n",
        "  plt.subplot(1, 2, 1)\n",
        "  sns.distplot(data[numerical[i]])\n",
        "  i += 1\n",
        "  if i == 4:\n",
        "    break\n",
        "  plt.subplot(1, 2, 2)\n",
        "  sns.distplot(data[numerical[i]])\n",
        "  i += 1\n",
        "  plt.show()\n",
        "\n",
        "plt.savefig('2')"
      ]
    },
    {
      "cell_type": "code",
      "execution_count": null,
      "metadata": {
        "colab": {
          "base_uri": "https://localhost:8080/"
        },
        "id": "G1zRxLgxPT0A",
        "outputId": "a60d8ba4-c519-487d-d906-f1beaea8ccdf"
      },
      "outputs": [],
      "source": [
        "# Calculate the count of unique values for each feature\n",
        "feature_counts = {}\n",
        "for feature in [\"gender\", \"hypertension\", \"heart_disease\", \"smoking_history\", \"age\", \"bmi\", \"HbA1c_level\", \"blood_glucose_level\"]:\n",
        "    feature_counts[feature] = data[feature].value_counts()\n",
        "\n",
        "# Print the counts for each feature\n",
        "for feature, counts in feature_counts.items():\n",
        "    print(f\"Counts for {feature}: \\n{counts}\\n\")\n"
      ]
    },
    {
      "cell_type": "code",
      "execution_count": null,
      "metadata": {
        "colab": {
          "base_uri": "https://localhost:8080/",
          "height": 1000
        },
        "id": "nQBoVPrxJJYx",
        "outputId": "6fe2fc12-becb-4b4d-e4b3-03be2d0e5fde"
      },
      "outputs": [],
      "source": [
        "categorical_columns = ['gender', 'hypertension', 'heart_disease', 'smoking_history']\n",
        "\n",
        "fig, axes = plt.subplots(4, 1, figsize=(20, 30))\n",
        "sns.set_style('darkgrid')\n",
        "\n",
        "for idx, col in enumerate(categorical_columns):\n",
        "    sns.countplot(data=data, y=col, palette='mako', orient='h', hue='diabetes',\n",
        "                  ax=axes[idx]).set_title(f'Count of {col} per Diabetes', fontsize=20)\n",
        "    for container in axes[idx].containers:\n",
        "        axes[idx].bar_label(container)\n",
        "\n",
        "plt.show()\n"
      ]
    },
    {
      "cell_type": "code",
      "execution_count": null,
      "metadata": {
        "colab": {
          "base_uri": "https://localhost:8080/",
          "height": 1000
        },
        "id": "kGWcARZiJbuG",
        "outputId": "8f43a234-a0fc-4299-ab2d-ee0e93b7a660"
      },
      "outputs": [],
      "source": [
        "numerical_columns = ['age', 'bmi', 'HbA1c_level', 'blood_glucose_level']\n",
        "\n",
        "fig, axes = plt.subplots(4, 1, figsize=(20, 30))\n",
        "sns.set_style('darkgrid')\n",
        "\n",
        "for idx, col in enumerate(numerical_columns):\n",
        "    sns.kdeplot(data=data, x=col, palette='Greens', fill=True, hue='diabetes', ax=axes[idx]).set_title(f'Distribution of {col}', fontsize=16)\n",
        "\n",
        "plt.show()"
      ]
    },
    {
      "cell_type": "code",
      "execution_count": null,
      "metadata": {
        "colab": {
          "base_uri": "https://localhost:8080/",
          "height": 605
        },
        "id": "vQOlRE5MWYXQ",
        "outputId": "860307dc-1beb-4320-d955-6da43343d529"
      },
      "outputs": [],
      "source": [
        "import matplotlib.pyplot as plt\n",
        "import seaborn as sns\n",
        "\n",
        "class_counts = data['diabetes'].value_counts()\n",
        "plt.figure(figsize=(8, 6))\n",
        "sns.barplot(x=class_counts.index, y=class_counts.values, palette='muted')\n",
        "plt.title('Count of Instances for Each Class in Diabetes Dataset')\n",
        "plt.xlabel('Diabetes Class')\n",
        "plt.ylabel('Count of Instances')\n",
        "plt.show()\n"
      ]
    },
    {
      "cell_type": "markdown",
      "metadata": {
        "id": "zmJQJJ-1fPKw"
      },
      "source": [
        "\n",
        "# Preprocessing\n",
        "\n"
      ]
    },
    {
      "cell_type": "code",
      "execution_count": 52,
      "metadata": {
        "colab": {
          "base_uri": "https://localhost:8080/"
        },
        "id": "6gC6n0y_jbi1",
        "outputId": "661e3baf-60cb-4121-d912-3eb863c2a141"
      },
      "outputs": [
        {
          "data": {
            "text/plain": [
              "gender                 0\n",
              "age                    0\n",
              "hypertension           0\n",
              "heart_disease          0\n",
              "smoking_history        0\n",
              "bmi                    0\n",
              "HbA1c_level            0\n",
              "blood_glucose_level    0\n",
              "diabetes               0\n",
              "dtype: int64"
            ]
          },
          "execution_count": 52,
          "metadata": {},
          "output_type": "execute_result"
        }
      ],
      "source": [
        "data.isnull().sum()"
      ]
    },
    {
      "cell_type": "code",
      "execution_count": 53,
      "metadata": {
        "colab": {
          "base_uri": "https://localhost:8080/"
        },
        "id": "A21Mvus1fOPc",
        "outputId": "b0caf2d0-6a2e-4f22-d67d-77f93cf5854b"
      },
      "outputs": [
        {
          "data": {
            "text/plain": [
              "3854"
            ]
          },
          "execution_count": 53,
          "metadata": {},
          "output_type": "execute_result"
        }
      ],
      "source": [
        "data.duplicated().sum()"
      ]
    },
    {
      "cell_type": "code",
      "execution_count": 54,
      "metadata": {
        "id": "zkQO3d8zf50I"
      },
      "outputs": [],
      "source": [
        "data = data.drop_duplicates()"
      ]
    },
    {
      "cell_type": "code",
      "execution_count": 55,
      "metadata": {
        "id": "PDqlBqfxkStb"
      },
      "outputs": [],
      "source": [
        "test = data[['age', 'bmi', 'HbA1c_level', 'blood_glucose_level']]\n",
        "z = np.abs(stats.zscore(test))\n",
        "data = data[(z < 3).all(axis=1)]"
      ]
    },
    {
      "cell_type": "code",
      "execution_count": 56,
      "metadata": {
        "colab": {
          "base_uri": "https://localhost:8080/"
        },
        "id": "_lf78AmckeAI",
        "outputId": "98f50b82-544d-4cb3-f216-cfb16a983c4c"
      },
      "outputs": [
        {
          "data": {
            "text/plain": [
              "(92542, 9)"
            ]
          },
          "execution_count": 56,
          "metadata": {},
          "output_type": "execute_result"
        }
      ],
      "source": [
        "data.shape"
      ]
    },
    {
      "cell_type": "code",
      "execution_count": 57,
      "metadata": {
        "id": "rl5e2QVqkgWm"
      },
      "outputs": [],
      "source": [
        "data['smoking_history'].replace({'never': 2, 'No Info': 3, 'current': 4, 'former': 5, 'not current': 6, 'ever': 7}, inplace=True)"
      ]
    },
    {
      "cell_type": "code",
      "execution_count": 58,
      "metadata": {
        "id": "m1fz-GQ1kuKE"
      },
      "outputs": [],
      "source": [
        "data['gender'].replace({'Male': 2, 'Female': 3, 'Other': 3}, inplace=True)"
      ]
    },
    {
      "cell_type": "code",
      "execution_count": 59,
      "metadata": {
        "colab": {
          "base_uri": "https://localhost:8080/",
          "height": 206
        },
        "id": "KPhZq_Dui6kz",
        "outputId": "e63612bf-ff88-4c8d-a1fa-e13d528f1c14"
      },
      "outputs": [
        {
          "data": {
            "text/html": [
              "<div>\n",
              "<style scoped>\n",
              "    .dataframe tbody tr th:only-of-type {\n",
              "        vertical-align: middle;\n",
              "    }\n",
              "\n",
              "    .dataframe tbody tr th {\n",
              "        vertical-align: top;\n",
              "    }\n",
              "\n",
              "    .dataframe thead th {\n",
              "        text-align: right;\n",
              "    }\n",
              "</style>\n",
              "<table border=\"1\" class=\"dataframe\">\n",
              "  <thead>\n",
              "    <tr style=\"text-align: right;\">\n",
              "      <th></th>\n",
              "      <th>gender</th>\n",
              "      <th>age</th>\n",
              "      <th>hypertension</th>\n",
              "      <th>heart_disease</th>\n",
              "      <th>smoking_history</th>\n",
              "      <th>bmi</th>\n",
              "      <th>HbA1c_level</th>\n",
              "      <th>blood_glucose_level</th>\n",
              "      <th>diabetes</th>\n",
              "    </tr>\n",
              "  </thead>\n",
              "  <tbody>\n",
              "    <tr>\n",
              "      <th>0</th>\n",
              "      <td>3</td>\n",
              "      <td>80.0</td>\n",
              "      <td>0</td>\n",
              "      <td>1</td>\n",
              "      <td>2</td>\n",
              "      <td>25.19</td>\n",
              "      <td>6.6</td>\n",
              "      <td>140</td>\n",
              "      <td>0</td>\n",
              "    </tr>\n",
              "    <tr>\n",
              "      <th>1</th>\n",
              "      <td>3</td>\n",
              "      <td>54.0</td>\n",
              "      <td>0</td>\n",
              "      <td>0</td>\n",
              "      <td>3</td>\n",
              "      <td>27.32</td>\n",
              "      <td>6.6</td>\n",
              "      <td>80</td>\n",
              "      <td>0</td>\n",
              "    </tr>\n",
              "    <tr>\n",
              "      <th>2</th>\n",
              "      <td>2</td>\n",
              "      <td>28.0</td>\n",
              "      <td>0</td>\n",
              "      <td>0</td>\n",
              "      <td>2</td>\n",
              "      <td>27.32</td>\n",
              "      <td>5.7</td>\n",
              "      <td>158</td>\n",
              "      <td>0</td>\n",
              "    </tr>\n",
              "    <tr>\n",
              "      <th>3</th>\n",
              "      <td>3</td>\n",
              "      <td>36.0</td>\n",
              "      <td>0</td>\n",
              "      <td>0</td>\n",
              "      <td>4</td>\n",
              "      <td>23.45</td>\n",
              "      <td>5.0</td>\n",
              "      <td>155</td>\n",
              "      <td>0</td>\n",
              "    </tr>\n",
              "    <tr>\n",
              "      <th>4</th>\n",
              "      <td>2</td>\n",
              "      <td>76.0</td>\n",
              "      <td>1</td>\n",
              "      <td>1</td>\n",
              "      <td>4</td>\n",
              "      <td>20.14</td>\n",
              "      <td>4.8</td>\n",
              "      <td>155</td>\n",
              "      <td>0</td>\n",
              "    </tr>\n",
              "  </tbody>\n",
              "</table>\n",
              "</div>"
            ],
            "text/plain": [
              "   gender   age  hypertension  heart_disease  smoking_history    bmi  \\\n",
              "0       3  80.0             0              1                2  25.19   \n",
              "1       3  54.0             0              0                3  27.32   \n",
              "2       2  28.0             0              0                2  27.32   \n",
              "3       3  36.0             0              0                4  23.45   \n",
              "4       2  76.0             1              1                4  20.14   \n",
              "\n",
              "   HbA1c_level  blood_glucose_level  diabetes  \n",
              "0          6.6                  140         0  \n",
              "1          6.6                   80         0  \n",
              "2          5.7                  158         0  \n",
              "3          5.0                  155         0  \n",
              "4          4.8                  155         0  "
            ]
          },
          "execution_count": 59,
          "metadata": {},
          "output_type": "execute_result"
        }
      ],
      "source": [
        "data.head()"
      ]
    },
    {
      "cell_type": "markdown",
      "metadata": {
        "id": "bcjuXUa4Enxu"
      },
      "source": [
        "# **Correlation Between The Features:**"
      ]
    },
    {
      "cell_type": "code",
      "execution_count": 60,
      "metadata": {
        "colab": {
          "base_uri": "https://localhost:8080/",
          "height": 899
        },
        "id": "vYgWpW1hEl7_",
        "outputId": "1d9c8d14-57f8-4a52-82e5-e98c2ed057f5"
      },
      "outputs": [
        {
          "data": {
            "image/png": "[encoded data removed]",
            "text/plain": [
              "<Figure size 720x576 with 2 Axes>"
            ]
          },
          "metadata": {},
          "output_type": "display_data"
        }
      ],
      "source": [
        "fig=plt.gcf()\n",
        "fig.set_size_inches(10,8)\n",
        "plt.title('Correlation Between The Features')\n",
        "a = sns.heatmap(data.corr(), annot=True, cmap='Pastel1', fmt='.2f', linewidths=0.2)\n",
        "a.set_xticklabels(a.get_xticklabels(), rotation=60)\n",
        "a.set_yticklabels(a.get_yticklabels())\n",
        "plt.show()"
      ]
    },
    {
      "cell_type": "markdown",
      "metadata": {
        "id": "_DSSNbHB1R_p"
      },
      "source": [
        "# Train Test Split"
      ]
    },
    {
      "cell_type": "code",
      "execution_count": 61,
      "metadata": {
        "id": "WjVmJIBZ1RRM"
      },
      "outputs": [],
      "source": [
        "target = data['diabetes']\n",
        "data.drop('diabetes', axis=1, inplace=True)\n",
        "\n",
        "xtrain, xtest, ytrain, ytest = train_test_split(data, target, test_size=0.3, random_state=42)\n",
        "\n"
      ]
    },
    {
      "cell_type": "code",
      "execution_count": 62,
      "metadata": {
        "id": "LzPjlsPL1dEr"
      },
      "outputs": [],
      "source": [
        "def metrics_calculator(y_test, y_pred, model_name):\n",
        "    '''\n",
        "    This function calculates all desired performance metrics for a given model.\n",
        "    '''\n",
        "    result = pd.DataFrame(data=[accuracy_score(y_test, y_pred),\n",
        "                                precision_score(y_test, y_pred, average='macro'),\n",
        "                                recall_score(y_test, y_pred, average='macro'),\n",
        "                                f1_score(y_test, y_pred, average='macro')],\n",
        "                          index=['Accuracy','Precision','Recall','F1-score'],\n",
        "                          columns = [model_name])\n",
        "    return result"
      ]
    },
    {
      "cell_type": "markdown",
      "metadata": {
        "id": "jCRDvfSRz3HT"
      },
      "source": [
        "# Feature Scaling Using StandardScaler"
      ]
    },
    {
      "cell_type": "code",
      "execution_count": 63,
      "metadata": {
        "id": "89v7LUF6z1qG"
      },
      "outputs": [],
      "source": [
        "cols = xtrain.columns\n",
        "\n",
        "scaler = StandardScaler()\n",
        "\n",
        "xtrain = scaler.fit_transform(xtrain)\n",
        "xtest = scaler.transform(xtest)\n",
        "\n",
        "xtrain = pd.DataFrame(xtrain, columns=cols)\n",
        "xtest = pd.DataFrame(xtest, columns=cols)\n"
      ]
    },
    {
      "cell_type": "markdown",
      "metadata": {
        "id": "R_MxA53J3GI4"
      },
      "source": [
        "# Modeling"
      ]
    },
    {
      "cell_type": "code",
      "execution_count": null,
      "metadata": {
        "colab": {
          "base_uri": "https://localhost:8080/"
        },
        "id": "-BqsqAQ93Grf",
        "outputId": "6a521738-9fb1-4c41-c37e-4e1c787046ba"
      },
      "outputs": [],
      "source": [
        "lr_model = LogisticRegression()\n",
        "knn_model = KNeighborsClassifier()\n",
        "dt_model = DecisionTreeClassifier()\n",
        "rf_model = RandomForestClassifier()\n",
        "\n",
        "classifiers = {\n",
        "    'Logistic Regression': lr_model,\n",
        "    'KNN': knn_model,\n",
        "    'Decision Tree': dt_model,\n",
        "    'Random Forest': rf_model\n",
        "}\n",
        "\n",
        "performance_metrics = {\n",
        "    'Accuracy': [],\n",
        "    'Precision': [],\n",
        "    'Recall': [],\n",
        "    'F1-Score': []\n",
        "}\n",
        "\n",
        "for name, clf in classifiers.items():\n",
        "    metrics = {\n",
        "        'Accuracy': 0,\n",
        "        'Precision': 0,\n",
        "        'Recall': 0,\n",
        "        'F1-Score': 0\n",
        "    }\n",
        "\n",
        "    for i, state in enumerate([10, 20, 30, 50, 100]):\n",
        "        X_train, X_test, y_train, y_test = train_test_split(data, target, test_size=0.3, random_state=state)\n",
        "        clf.fit(X_train, y_train)\n",
        "        y_pred = clf.predict(X_test)\n",
        "\n",
        "        metrics['Accuracy'] += accuracy_score(y_test, y_pred)\n",
        "        metrics['Precision'] += precision_score(y_test, y_pred)\n",
        "        metrics['Recall'] += recall_score(y_test, y_pred)\n",
        "        metrics['F1-Score'] += f1_score(y_test, y_pred)\n",
        "\n",
        "        print(f\"{i+1} - Model: {name}; Acc: {accuracy_score(y_test, y_pred)}; \"\n",
        "              f\"Prec: {precision_score(y_test, y_pred)}; Rec: {recall_score(y_test, y_pred)}; \"\n",
        "              f\"F1: {f1_score(y_test, y_pred)}\")\n",
        "\n",
        "    # Calculate the mean of the metrics\n",
        "    for metric in metrics:\n",
        "        metrics[metric] /= 5\n",
        "        performance_metrics[metric].append((name, metrics[metric]))\n",
        "\n",
        "for metric, values in performance_metrics.items():\n",
        "    print(f\"{metric}:\")\n",
        "    for name, score in values:\n",
        "        print(f\"{name}: {score}\")\n"
      ]
    },
    {
      "cell_type": "markdown",
      "metadata": {
        "id": "VhxeS6zi6w3S"
      },
      "source": [
        "# Accuracy Comparison"
      ]
    },
    {
      "cell_type": "code",
      "execution_count": null,
      "metadata": {
        "colab": {
          "base_uri": "https://localhost:8080/",
          "height": 605
        },
        "id": "SyOEiLCI6eUJ",
        "outputId": "71ba9a7b-3a40-43aa-fe5b-d9289367869e"
      },
      "outputs": [],
      "source": [
        "names = [name for name, _ in performance_metrics['Accuracy']]\n",
        "scores = [score for _, score in performance_metrics['Accuracy']]\n",
        "\n",
        "plt.figure(figsize=(8, 6))\n",
        "bars = plt.bar(names, scores, color='lightcoral')\n",
        "plt.xlabel('Classifier')\n",
        "plt.ylabel('Accuracy')\n",
        "plt.title('Mean Accuracy for Each Classifier')\n",
        "\n",
        "for bar in bars:\n",
        "    yval = bar.get_height()\n",
        "    plt.text(bar.get_x() + bar.get_width() / 2, yval, f'{yval:.2%}', ha='center', va='bottom')\n",
        "\n",
        "plt.show()\n"
      ]
    },
    {
      "cell_type": "markdown",
      "metadata": {
        "id": "CdiP6Irq7tps"
      },
      "source": [
        "**Confusion Matrix of Logistic Regression**"
      ]
    },
    {
      "cell_type": "code",
      "execution_count": null,
      "metadata": {
        "colab": {
          "base_uri": "https://localhost:8080/",
          "height": 473
        },
        "id": "9P7xm2he8zR8",
        "outputId": "d8f7e331-7531-4e29-8784-cef3909d9842"
      },
      "outputs": [],
      "source": [
        "param_lr = {'penalty': ['l1', 'l2', 'elasticnet']}\n",
        "gridSearch_lr = GridSearchCV(lr_model, param_lr, cv=5, scoring='accuracy')\n",
        "gridSearch_lr.fit(xtrain, ytrain)\n",
        "Logistic = gridSearch_lr.best_estimator_\n",
        "ypred_lr = Logistic.predict(xtest)\n",
        "fig, ax_lr = plt.subplots(figsize=(8, 5), dpi=90)\n",
        "sns.set_style('darkgrid')\n",
        "ConfusionMatrixDisplay.from_estimator(Logistic, xtest, ytest, ax=ax_lr, colorbar=False, cmap='Blues')\n",
        "plt.title('Confusion Matrix of Logistic Regression')\n",
        "plt.grid()\n",
        "\n"
      ]
    },
    {
      "cell_type": "markdown",
      "metadata": {
        "id": "qxKiZ3bTK0Uw"
      },
      "source": [
        "**Confusion Matrix of Decision Tree**"
      ]
    },
    {
      "cell_type": "code",
      "execution_count": null,
      "metadata": {
        "colab": {
          "base_uri": "https://localhost:8080/",
          "height": 473
        },
        "id": "zoDbopCIK8e0",
        "outputId": "ad916d05-9842-4aeb-954b-37d66f3d58c4"
      },
      "outputs": [],
      "source": [
        "param = {\n",
        "    'criterion': ['gini', 'entropy'],\n",
        "    'max_depth': [i for i in range(1, 10)]}\n",
        "\n",
        "gridSearch = GridSearchCV(dt_model, param, cv=5, scoring='neg_mean_squared_error')\n",
        "gridSearch.fit(xtrain, ytrain)\n",
        "Tree = gridSearch.best_estimator_\n",
        "\n",
        "fig, ax = plt.subplots(figsize=(8, 5), dpi=90)\n",
        "sns.set_style('darkgrid')\n",
        "ConfusionMatrixDisplay.from_estimator(Tree, xtest, ytest, ax=ax, colorbar=False, cmap='Blues')\n",
        "plt.title('Confusion Matrix of Decision Tree')\n",
        "plt.grid()"
      ]
    },
    {
      "cell_type": "markdown",
      "metadata": {
        "id": "36PCRyaWNaip"
      },
      "source": [
        "**Confusion Matrix of KNN**"
      ]
    },
    {
      "cell_type": "code",
      "execution_count": null,
      "metadata": {
        "colab": {
          "base_uri": "https://localhost:8080/",
          "height": 473
        },
        "id": "Jxfs8W1mNl5y",
        "outputId": "f391d697-d6e6-48d9-d1f2-2d9842b38dec"
      },
      "outputs": [],
      "source": [
        "param = {\n",
        "    'n_neighbors': [3, 5, 7, 10],\n",
        "    'weights': ['unoform', 'distance']}\n",
        "\n",
        "gridSearch = GridSearchCV(knn_model, param, cv=5, scoring='accuracy')\n",
        "gridSearch.fit(xtrain, ytrain)\n",
        "KNN = gridSearch.best_estimator_\n",
        "\n",
        "fig, ax = plt.subplots(figsize=(8, 5), dpi=90)\n",
        "sns.set_style('darkgrid')\n",
        "ConfusionMatrixDisplay.from_estimator(KNN, xtest, ytest, ax=ax, colorbar=False, cmap='Blues')\n",
        "plt.title('Confusion Matrix of KNN')\n",
        "plt.grid()"
      ]
    },
    {
      "cell_type": "code",
      "execution_count": null,
      "metadata": {
        "colab": {
          "base_uri": "https://localhost:8080/",
          "height": 473
        },
        "id": "mbuKN4FmWY9r",
        "outputId": "33270bc8-27e8-4fb2-e0c2-d194f43756bc"
      },
      "outputs": [],
      "source": [
        "parameter = {\n",
        "    'criterion': ['gini', 'entropy']}\n",
        "\n",
        "gridSearch = GridSearchCV(rf_model, parameter, cv=5, scoring='accuracy')\n",
        "gridSearch.fit(xtrain, ytrain)\n",
        "Random = gridSearch.best_estimator_\n",
        "\n",
        "fig, ax = plt.subplots(figsize=(8, 5), dpi=90)\n",
        "sns.set_style('darkgrid')\n",
        "ConfusionMatrixDisplay.from_estimator(Random, xtest, ytest, ax=ax, colorbar=False, cmap='Blues')\n",
        "plt.title('Confusion Matrix of Random Forest')\n",
        "plt.grid()"
      ]
    },
    {
      "cell_type": "markdown",
      "metadata": {
        "id": "Z-c5KdxuXBhD"
      },
      "source": []
    }
  ],
  "metadata": {
    "accelerator": "GPU",
    "colab": {
      "gpuType": "T4",
      "provenance": []
    },
    "kernelspec": {
      "display_name": "Python 3",
      "name": "python3"
    },
    "language_info": {
      "codemirror_mode": {
        "name": "ipython",
        "version": 3
      },
      "file_extension": ".py",
      "mimetype": "text/x-python",
      "name": "python",
      "nbconvert_exporter": "python",
      "pygments_lexer": "ipython3",
      "version": "3.6.13"
    }
  },
  "nbformat": 4,
  "nbformat_minor": 0
}
